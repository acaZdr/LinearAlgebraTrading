{
 "cells": [
  {
   "cell_type": "code",
   "id": "initial_id",
   "metadata": {
    "collapsed": true,
    "ExecuteTime": {
     "end_time": "2024-07-16T13:02:23.488901Z",
     "start_time": "2024-07-16T13:02:23.468572Z"
    }
   },
   "source": [
    "import pandas as pd\n",
    "import numpy as np\n",
    "from sklearn.preprocessing import StandardScaler \n",
    "from sklearn.decomposition import PCA"
   ],
   "outputs": [],
   "execution_count": 63
  },
  {
   "metadata": {
    "ExecuteTime": {
     "end_time": "2024-07-16T13:02:24.056019Z",
     "start_time": "2024-07-16T13:02:24.038047Z"
    }
   },
   "cell_type": "code",
   "source": [
    "matrix = np.array([[1, 2, 3],\n",
    "                   [4, 5, 6],\n",
    "                   [7, 8, 9],\n",
    "                   [10, 11, 12]])\n",
    "\n",
    "matrix = StandardScaler().fit_transform(matrix)\n",
    "\n",
    "U, S, Vt = np.linalg.svd(matrix)"
   ],
   "id": "1b13359c38acd607",
   "outputs": [],
   "execution_count": 64
  },
  {
   "metadata": {
    "ExecuteTime": {
     "end_time": "2024-07-15T11:52:00.144693Z",
     "start_time": "2024-07-15T11:52:00.140571Z"
    }
   },
   "cell_type": "code",
   "source": "matrix",
   "id": "8dda3c79da6a676c",
   "outputs": [
    {
     "data": {
      "text/plain": [
       "array([[-1.34164079, -1.34164079, -1.34164079],\n",
       "       [-0.4472136 , -0.4472136 , -0.4472136 ],\n",
       "       [ 0.4472136 ,  0.4472136 ,  0.4472136 ],\n",
       "       [ 1.34164079,  1.34164079,  1.34164079]])"
      ]
     },
     "execution_count": 59,
     "metadata": {},
     "output_type": "execute_result"
    }
   ],
   "execution_count": 59
  },
  {
   "metadata": {
    "ExecuteTime": {
     "end_time": "2024-07-15T10:13:25.920547Z",
     "start_time": "2024-07-15T10:13:25.917323Z"
    }
   },
   "cell_type": "code",
   "source": "U",
   "id": "8dadb6d9d57d7fd1",
   "outputs": [
    {
     "data": {
      "text/plain": [
       "array([[-6.70820393e-01,  7.40013004e-01, -4.87929773e-02,\n",
       "        -2.31872909e-17],\n",
       "       [-2.23606798e-01, -1.59740744e-01,  6.51523518e-01,\n",
       "         7.07106781e-01],\n",
       "       [ 2.23606798e-01,  1.59740744e-01, -6.51523518e-01,\n",
       "         7.07106781e-01],\n",
       "       [ 6.70820393e-01,  6.33519174e-01,  3.85556035e-01,\n",
       "         4.36724750e-16]])"
      ]
     },
     "execution_count": 30,
     "metadata": {},
     "output_type": "execute_result"
    }
   ],
   "execution_count": 30
  },
  {
   "metadata": {
    "ExecuteTime": {
     "end_time": "2024-07-15T10:13:29.166700Z",
     "start_time": "2024-07-15T10:13:29.163494Z"
    }
   },
   "cell_type": "code",
   "source": "S",
   "id": "96021f3ea2c35e1",
   "outputs": [
    {
     "data": {
      "text/plain": [
       "array([3.46410162e+00, 2.93749601e-16, 1.84297753e-33])"
      ]
     },
     "execution_count": 31,
     "metadata": {},
     "output_type": "execute_result"
    }
   ],
   "execution_count": 31
  },
  {
   "metadata": {
    "ExecuteTime": {
     "end_time": "2024-07-15T11:46:24.745116Z",
     "start_time": "2024-07-15T11:46:24.740038Z"
    }
   },
   "cell_type": "code",
   "source": "Vt",
   "id": "6b6f8db666d9a998",
   "outputs": [
    {
     "data": {
      "text/plain": [
       "array([[ 0.57735027,  0.57735027,  0.57735027],\n",
       "       [-0.81649658,  0.40824829,  0.40824829],\n",
       "       [ 0.        , -0.70710678,  0.70710678]])"
      ]
     },
     "execution_count": 54,
     "metadata": {},
     "output_type": "execute_result"
    }
   ],
   "execution_count": 54
  },
  {
   "metadata": {
    "ExecuteTime": {
     "end_time": "2024-07-15T11:52:04.881560Z",
     "start_time": "2024-07-15T11:52:04.877341Z"
    }
   },
   "cell_type": "code",
   "source": [
    "S_matrix = np.zeros((U.shape[1], Vt.shape[0]))\n",
    "np.fill_diagonal(S_matrix, S)"
   ],
   "id": "d1a1ebb834dffadf",
   "outputs": [],
   "execution_count": 60
  },
  {
   "metadata": {
    "ExecuteTime": {
     "end_time": "2024-07-15T11:47:48.269147Z",
     "start_time": "2024-07-15T11:47:48.265799Z"
    }
   },
   "cell_type": "code",
   "source": "S_matrix",
   "id": "2ab51197e85bfc08",
   "outputs": [
    {
     "data": {
      "text/plain": [
       "array([[3.46410162e+00, 0.00000000e+00, 0.00000000e+00],\n",
       "       [0.00000000e+00, 2.93749601e-16, 0.00000000e+00],\n",
       "       [0.00000000e+00, 0.00000000e+00, 1.84297753e-33],\n",
       "       [0.00000000e+00, 0.00000000e+00, 0.00000000e+00]])"
      ]
     },
     "execution_count": 55,
     "metadata": {},
     "output_type": "execute_result"
    }
   ],
   "execution_count": 55
  },
  {
   "metadata": {
    "ExecuteTime": {
     "end_time": "2024-07-15T11:52:16.707123Z",
     "start_time": "2024-07-15T11:52:16.702584Z"
    }
   },
   "cell_type": "code",
   "source": "np.dot(np.transpose(matrix), matrix) / (matrix.shape[0] - 1)",
   "id": "989bc1fb1ed9158e",
   "outputs": [
    {
     "data": {
      "text/plain": [
       "array([[1.33333333, 1.33333333, 1.33333333],\n",
       "       [1.33333333, 1.33333333, 1.33333333],\n",
       "       [1.33333333, 1.33333333, 1.33333333]])"
      ]
     },
     "execution_count": 62,
     "metadata": {},
     "output_type": "execute_result"
    }
   ],
   "execution_count": 62
  },
  {
   "metadata": {
    "ExecuteTime": {
     "end_time": "2024-07-16T13:04:30.084647Z",
     "start_time": "2024-07-16T13:04:30.079735Z"
    }
   },
   "cell_type": "code",
   "source": [
    "cov_matrix = np.cov(matrix, rowvar=False)\n",
    "print(cov_matrix)"
   ],
   "id": "a64d74a5fb1152d3",
   "outputs": [
    {
     "name": "stdout",
     "output_type": "stream",
     "text": [
      "[[1.33333333 1.33333333 1.33333333]\n",
      " [1.33333333 1.33333333 1.33333333]\n",
      " [1.33333333 1.33333333 1.33333333]]\n"
     ]
    }
   ],
   "execution_count": 66
  },
  {
   "metadata": {
    "ExecuteTime": {
     "end_time": "2024-07-16T13:06:59.643814Z",
     "start_time": "2024-07-16T13:06:59.638334Z"
    }
   },
   "cell_type": "code",
   "source": [
    "matrix_centered = matrix - np.mean(matrix, axis=0)\n",
    "\n",
    "# 2. Računanje matrice kovarijanse ručno\n",
    "cov_matrix_manual = np.dot(matrix_centered.T, matrix_centered) / (matrix.shape[0] - 1)\n",
    "\n",
    "# 3. Računanje matrice kovarijanse korišćenjem numpy funkcije\n",
    "cov_matrix_numpy = np.cov(matrix, rowvar=False)\n",
    "\n",
    "print(\"Manually calculated covariance matrix:\\n\", cov_matrix_manual)\n",
    "print(\"Numpy covariance matrix:\\n\", cov_matrix_numpy)"
   ],
   "id": "eae0b636f4eacead",
   "outputs": [
    {
     "name": "stdout",
     "output_type": "stream",
     "text": [
      "Manually calculated covariance matrix:\n",
      " [[1.33333333 1.33333333 1.33333333]\n",
      " [1.33333333 1.33333333 1.33333333]\n",
      " [1.33333333 1.33333333 1.33333333]]\n",
      "Numpy covariance matrix:\n",
      " [[1.33333333 1.33333333 1.33333333]\n",
      " [1.33333333 1.33333333 1.33333333]\n",
      " [1.33333333 1.33333333 1.33333333]]\n"
     ]
    }
   ],
   "execution_count": 67
  },
  {
   "metadata": {
    "ExecuteTime": {
     "end_time": "2024-07-15T11:27:33.271964Z",
     "start_time": "2024-07-15T11:27:33.268240Z"
    }
   },
   "cell_type": "code",
   "source": [
    "U_cut = U[:, :1]\n",
    "S_cut = S_matrix[:1, :1]\n",
    "Vt_cut = Vt[:1, :]"
   ],
   "id": "4b66686bade4654f",
   "outputs": [],
   "execution_count": 51
  },
  {
   "metadata": {
    "ExecuteTime": {
     "end_time": "2024-07-15T11:27:54.098707Z",
     "start_time": "2024-07-15T11:27:54.094043Z"
    }
   },
   "cell_type": "code",
   "source": "np.dot(U_cut, S_cut)",
   "id": "f2b9d8dd3246c64c",
   "outputs": [
    {
     "data": {
      "text/plain": [
       "array([[-2.32379001],\n",
       "       [-0.77459667],\n",
       "       [ 0.77459667],\n",
       "       [ 2.32379001]])"
      ]
     },
     "execution_count": 52,
     "metadata": {},
     "output_type": "execute_result"
    }
   ],
   "execution_count": 52
  },
  {
   "metadata": {
    "ExecuteTime": {
     "end_time": "2024-07-15T10:15:33.958442Z",
     "start_time": "2024-07-15T10:15:33.955342Z"
    }
   },
   "cell_type": "code",
   "source": "np.dot(np.dot(U_cut, S_cut), Vt_cut)",
   "id": "42d86f3722c2a72f",
   "outputs": [
    {
     "data": {
      "text/plain": [
       "array([[-1.34164079, -1.34164079, -1.34164079],\n",
       "       [-0.4472136 , -0.4472136 , -0.4472136 ],\n",
       "       [ 0.4472136 ,  0.4472136 ,  0.4472136 ],\n",
       "       [ 1.34164079,  1.34164079,  1.34164079]])"
      ]
     },
     "execution_count": 35,
     "metadata": {},
     "output_type": "execute_result"
    }
   ],
   "execution_count": 35
  },
  {
   "metadata": {
    "ExecuteTime": {
     "end_time": "2024-07-15T10:07:51.545794Z",
     "start_time": "2024-07-15T10:07:51.539807Z"
    }
   },
   "cell_type": "code",
   "source": "frobenius_norm_difference = np.linalg.norm((matrix - np.dot(np.dot(U_cut, S_cut), Vt_cut)))",
   "id": "83340dcf307e8c94",
   "outputs": [],
   "execution_count": 25
  },
  {
   "metadata": {
    "ExecuteTime": {
     "end_time": "2024-07-15T10:07:58.864605Z",
     "start_time": "2024-07-15T10:07:58.861334Z"
    }
   },
   "cell_type": "code",
   "source": "frobenius_norm_difference",
   "id": "f8e3829f464df7d6",
   "outputs": [
    {
     "data": {
      "text/plain": [
       "1.2906616757612317"
      ]
     },
     "execution_count": 26,
     "metadata": {},
     "output_type": "execute_result"
    }
   ],
   "execution_count": 26
  },
  {
   "metadata": {
    "ExecuteTime": {
     "end_time": "2024-07-15T11:23:07.082521Z",
     "start_time": "2024-07-15T11:23:07.078364Z"
    }
   },
   "cell_type": "code",
   "source": [
    "pca = PCA(n_components=1)\n",
    "pca.fit_transform(matrix)"
   ],
   "id": "2db1edae12b9fba2",
   "outputs": [
    {
     "data": {
      "text/plain": [
       "array([[-2.32379001],\n",
       "       [-0.77459667],\n",
       "       [ 0.77459667],\n",
       "       [ 2.32379001]])"
      ]
     },
     "execution_count": 47,
     "metadata": {},
     "output_type": "execute_result"
    }
   ],
   "execution_count": 47
  },
  {
   "metadata": {},
   "cell_type": "code",
   "outputs": [],
   "execution_count": null,
   "source": "",
   "id": "226dc6ac3a59fec3"
  }
 ],
 "metadata": {
  "kernelspec": {
   "display_name": "Python 3",
   "language": "python",
   "name": "python3"
  },
  "language_info": {
   "codemirror_mode": {
    "name": "ipython",
    "version": 2
   },
   "file_extension": ".py",
   "mimetype": "text/x-python",
   "name": "python",
   "nbconvert_exporter": "python",
   "pygments_lexer": "ipython2",
   "version": "2.7.6"
  }
 },
 "nbformat": 4,
 "nbformat_minor": 5
}
